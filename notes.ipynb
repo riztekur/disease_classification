{
 "cells": [
  {
   "cell_type": "code",
   "execution_count": 14,
   "metadata": {},
   "outputs": [],
   "source": [
    "import pandas as pd\n",
    "from sklearn.ensemble import RandomForestClassifier\n",
    "from sklearn.model_selection import cross_val_score\n",
    "import pickle"
   ]
  },
  {
   "cell_type": "code",
   "execution_count": 2,
   "metadata": {},
   "outputs": [],
   "source": [
    "df = pd.read_csv('https://docs.google.com/spreadsheets/d/e/2PACX-1vSq89XrmoJTAG9xCDnbjxVp9dbO4x18mNYzG1i-VTjHjQX8PaVWGPyo-lFR8lIjsIGiYZtUMxe9GRSN/pub?gid=0&single=true&output=csv')"
   ]
  },
  {
   "cell_type": "code",
   "execution_count": 3,
   "metadata": {},
   "outputs": [
    {
     "data": {
      "text/html": [
       "<div>\n",
       "<style scoped>\n",
       "    .dataframe tbody tr th:only-of-type {\n",
       "        vertical-align: middle;\n",
       "    }\n",
       "\n",
       "    .dataframe tbody tr th {\n",
       "        vertical-align: top;\n",
       "    }\n",
       "\n",
       "    .dataframe thead th {\n",
       "        text-align: right;\n",
       "    }\n",
       "</style>\n",
       "<table border=\"1\" class=\"dataframe\">\n",
       "  <thead>\n",
       "    <tr style=\"text-align: right;\">\n",
       "      <th></th>\n",
       "      <th>disease</th>\n",
       "      <th>warna_putih</th>\n",
       "      <th>warna_bening</th>\n",
       "      <th>warna_pucat</th>\n",
       "      <th>warna_gelap</th>\n",
       "      <th>warna_ekor_merah</th>\n",
       "      <th>kulit_spot_putih</th>\n",
       "      <th>kulit_spot_hitam</th>\n",
       "      <th>kulit_spot_false</th>\n",
       "      <th>tekstur_lembek</th>\n",
       "      <th>...</th>\n",
       "      <th>hepa_size_kerut</th>\n",
       "      <th>hepa_size_bengkak</th>\n",
       "      <th>hepa_warna_coklathijau</th>\n",
       "      <th>hepa_warna_coklathitam</th>\n",
       "      <th>hepa_warna_pucat</th>\n",
       "      <th>feces_warna_putih</th>\n",
       "      <th>feces_warna_coklathijau</th>\n",
       "      <th>feces_warna_hitamgelap</th>\n",
       "      <th>feces_bentuk_utuh</th>\n",
       "      <th>feces_bentuk_lembek</th>\n",
       "    </tr>\n",
       "  </thead>\n",
       "  <tbody>\n",
       "    <tr>\n",
       "      <th>0</th>\n",
       "      <td>AHPND</td>\n",
       "      <td>0</td>\n",
       "      <td>1</td>\n",
       "      <td>1</td>\n",
       "      <td>0</td>\n",
       "      <td>0</td>\n",
       "      <td>0</td>\n",
       "      <td>1</td>\n",
       "      <td>0</td>\n",
       "      <td>1</td>\n",
       "      <td>...</td>\n",
       "      <td>1</td>\n",
       "      <td>0</td>\n",
       "      <td>0</td>\n",
       "      <td>1</td>\n",
       "      <td>0</td>\n",
       "      <td>0</td>\n",
       "      <td>0</td>\n",
       "      <td>1</td>\n",
       "      <td>0</td>\n",
       "      <td>1</td>\n",
       "    </tr>\n",
       "    <tr>\n",
       "      <th>1</th>\n",
       "      <td>AHPND</td>\n",
       "      <td>1</td>\n",
       "      <td>0</td>\n",
       "      <td>1</td>\n",
       "      <td>0</td>\n",
       "      <td>0</td>\n",
       "      <td>0</td>\n",
       "      <td>1</td>\n",
       "      <td>0</td>\n",
       "      <td>1</td>\n",
       "      <td>...</td>\n",
       "      <td>1</td>\n",
       "      <td>0</td>\n",
       "      <td>0</td>\n",
       "      <td>1</td>\n",
       "      <td>0</td>\n",
       "      <td>0</td>\n",
       "      <td>0</td>\n",
       "      <td>1</td>\n",
       "      <td>0</td>\n",
       "      <td>1</td>\n",
       "    </tr>\n",
       "    <tr>\n",
       "      <th>2</th>\n",
       "      <td>AHPND</td>\n",
       "      <td>1</td>\n",
       "      <td>1</td>\n",
       "      <td>1</td>\n",
       "      <td>0</td>\n",
       "      <td>0</td>\n",
       "      <td>0</td>\n",
       "      <td>1</td>\n",
       "      <td>0</td>\n",
       "      <td>1</td>\n",
       "      <td>...</td>\n",
       "      <td>1</td>\n",
       "      <td>0</td>\n",
       "      <td>0</td>\n",
       "      <td>1</td>\n",
       "      <td>0</td>\n",
       "      <td>0</td>\n",
       "      <td>0</td>\n",
       "      <td>1</td>\n",
       "      <td>0</td>\n",
       "      <td>1</td>\n",
       "    </tr>\n",
       "    <tr>\n",
       "      <th>3</th>\n",
       "      <td>AHPND</td>\n",
       "      <td>0</td>\n",
       "      <td>1</td>\n",
       "      <td>0</td>\n",
       "      <td>0</td>\n",
       "      <td>0</td>\n",
       "      <td>0</td>\n",
       "      <td>1</td>\n",
       "      <td>0</td>\n",
       "      <td>1</td>\n",
       "      <td>...</td>\n",
       "      <td>1</td>\n",
       "      <td>0</td>\n",
       "      <td>0</td>\n",
       "      <td>1</td>\n",
       "      <td>0</td>\n",
       "      <td>0</td>\n",
       "      <td>0</td>\n",
       "      <td>1</td>\n",
       "      <td>0</td>\n",
       "      <td>1</td>\n",
       "    </tr>\n",
       "    <tr>\n",
       "      <th>4</th>\n",
       "      <td>AHPND</td>\n",
       "      <td>1</td>\n",
       "      <td>0</td>\n",
       "      <td>0</td>\n",
       "      <td>0</td>\n",
       "      <td>0</td>\n",
       "      <td>0</td>\n",
       "      <td>1</td>\n",
       "      <td>0</td>\n",
       "      <td>1</td>\n",
       "      <td>...</td>\n",
       "      <td>1</td>\n",
       "      <td>0</td>\n",
       "      <td>0</td>\n",
       "      <td>1</td>\n",
       "      <td>0</td>\n",
       "      <td>0</td>\n",
       "      <td>0</td>\n",
       "      <td>1</td>\n",
       "      <td>0</td>\n",
       "      <td>1</td>\n",
       "    </tr>\n",
       "  </tbody>\n",
       "</table>\n",
       "<p>5 rows × 35 columns</p>\n",
       "</div>"
      ],
      "text/plain": [
       "  disease  warna_putih  warna_bening  warna_pucat  warna_gelap   \n",
       "0   AHPND            0             1            1            0  \\\n",
       "1   AHPND            1             0            1            0   \n",
       "2   AHPND            1             1            1            0   \n",
       "3   AHPND            0             1            0            0   \n",
       "4   AHPND            1             0            0            0   \n",
       "\n",
       "   warna_ekor_merah  kulit_spot_putih  kulit_spot_hitam  kulit_spot_false   \n",
       "0                 0                 0                 1                 0  \\\n",
       "1                 0                 0                 1                 0   \n",
       "2                 0                 0                 1                 0   \n",
       "3                 0                 0                 1                 0   \n",
       "4                 0                 0                 1                 0   \n",
       "\n",
       "   tekstur_lembek  ...  hepa_size_kerut  hepa_size_bengkak   \n",
       "0               1  ...                1                  0  \\\n",
       "1               1  ...                1                  0   \n",
       "2               1  ...                1                  0   \n",
       "3               1  ...                1                  0   \n",
       "4               1  ...                1                  0   \n",
       "\n",
       "   hepa_warna_coklathijau  hepa_warna_coklathitam  hepa_warna_pucat   \n",
       "0                       0                       1                 0  \\\n",
       "1                       0                       1                 0   \n",
       "2                       0                       1                 0   \n",
       "3                       0                       1                 0   \n",
       "4                       0                       1                 0   \n",
       "\n",
       "   feces_warna_putih  feces_warna_coklathijau  feces_warna_hitamgelap   \n",
       "0                  0                        0                       1  \\\n",
       "1                  0                        0                       1   \n",
       "2                  0                        0                       1   \n",
       "3                  0                        0                       1   \n",
       "4                  0                        0                       1   \n",
       "\n",
       "   feces_bentuk_utuh  feces_bentuk_lembek  \n",
       "0                  0                    1  \n",
       "1                  0                    1  \n",
       "2                  0                    1  \n",
       "3                  0                    1  \n",
       "4                  0                    1  \n",
       "\n",
       "[5 rows x 35 columns]"
      ]
     },
     "execution_count": 3,
     "metadata": {},
     "output_type": "execute_result"
    }
   ],
   "source": [
    "df.head()"
   ]
  },
  {
   "cell_type": "code",
   "execution_count": 4,
   "metadata": {},
   "outputs": [],
   "source": [
    "X = df.drop(columns='disease')\n",
    "y = df['disease']"
   ]
  },
  {
   "cell_type": "code",
   "execution_count": 5,
   "metadata": {},
   "outputs": [
    {
     "data": {
      "text/html": [
       "<style>#sk-container-id-1 {color: black;background-color: white;}#sk-container-id-1 pre{padding: 0;}#sk-container-id-1 div.sk-toggleable {background-color: white;}#sk-container-id-1 label.sk-toggleable__label {cursor: pointer;display: block;width: 100%;margin-bottom: 0;padding: 0.3em;box-sizing: border-box;text-align: center;}#sk-container-id-1 label.sk-toggleable__label-arrow:before {content: \"▸\";float: left;margin-right: 0.25em;color: #696969;}#sk-container-id-1 label.sk-toggleable__label-arrow:hover:before {color: black;}#sk-container-id-1 div.sk-estimator:hover label.sk-toggleable__label-arrow:before {color: black;}#sk-container-id-1 div.sk-toggleable__content {max-height: 0;max-width: 0;overflow: hidden;text-align: left;background-color: #f0f8ff;}#sk-container-id-1 div.sk-toggleable__content pre {margin: 0.2em;color: black;border-radius: 0.25em;background-color: #f0f8ff;}#sk-container-id-1 input.sk-toggleable__control:checked~div.sk-toggleable__content {max-height: 200px;max-width: 100%;overflow: auto;}#sk-container-id-1 input.sk-toggleable__control:checked~label.sk-toggleable__label-arrow:before {content: \"▾\";}#sk-container-id-1 div.sk-estimator input.sk-toggleable__control:checked~label.sk-toggleable__label {background-color: #d4ebff;}#sk-container-id-1 div.sk-label input.sk-toggleable__control:checked~label.sk-toggleable__label {background-color: #d4ebff;}#sk-container-id-1 input.sk-hidden--visually {border: 0;clip: rect(1px 1px 1px 1px);clip: rect(1px, 1px, 1px, 1px);height: 1px;margin: -1px;overflow: hidden;padding: 0;position: absolute;width: 1px;}#sk-container-id-1 div.sk-estimator {font-family: monospace;background-color: #f0f8ff;border: 1px dotted black;border-radius: 0.25em;box-sizing: border-box;margin-bottom: 0.5em;}#sk-container-id-1 div.sk-estimator:hover {background-color: #d4ebff;}#sk-container-id-1 div.sk-parallel-item::after {content: \"\";width: 100%;border-bottom: 1px solid gray;flex-grow: 1;}#sk-container-id-1 div.sk-label:hover label.sk-toggleable__label {background-color: #d4ebff;}#sk-container-id-1 div.sk-serial::before {content: \"\";position: absolute;border-left: 1px solid gray;box-sizing: border-box;top: 0;bottom: 0;left: 50%;z-index: 0;}#sk-container-id-1 div.sk-serial {display: flex;flex-direction: column;align-items: center;background-color: white;padding-right: 0.2em;padding-left: 0.2em;position: relative;}#sk-container-id-1 div.sk-item {position: relative;z-index: 1;}#sk-container-id-1 div.sk-parallel {display: flex;align-items: stretch;justify-content: center;background-color: white;position: relative;}#sk-container-id-1 div.sk-item::before, #sk-container-id-1 div.sk-parallel-item::before {content: \"\";position: absolute;border-left: 1px solid gray;box-sizing: border-box;top: 0;bottom: 0;left: 50%;z-index: -1;}#sk-container-id-1 div.sk-parallel-item {display: flex;flex-direction: column;z-index: 1;position: relative;background-color: white;}#sk-container-id-1 div.sk-parallel-item:first-child::after {align-self: flex-end;width: 50%;}#sk-container-id-1 div.sk-parallel-item:last-child::after {align-self: flex-start;width: 50%;}#sk-container-id-1 div.sk-parallel-item:only-child::after {width: 0;}#sk-container-id-1 div.sk-dashed-wrapped {border: 1px dashed gray;margin: 0 0.4em 0.5em 0.4em;box-sizing: border-box;padding-bottom: 0.4em;background-color: white;}#sk-container-id-1 div.sk-label label {font-family: monospace;font-weight: bold;display: inline-block;line-height: 1.2em;}#sk-container-id-1 div.sk-label-container {text-align: center;}#sk-container-id-1 div.sk-container {/* jupyter's `normalize.less` sets `[hidden] { display: none; }` but bootstrap.min.css set `[hidden] { display: none !important; }` so we also need the `!important` here to be able to override the default hidden behavior on the sphinx rendered scikit-learn.org. See: https://github.com/scikit-learn/scikit-learn/issues/21755 */display: inline-block !important;position: relative;}#sk-container-id-1 div.sk-text-repr-fallback {display: none;}</style><div id=\"sk-container-id-1\" class=\"sk-top-container\"><div class=\"sk-text-repr-fallback\"><pre>RandomForestClassifier()</pre><b>In a Jupyter environment, please rerun this cell to show the HTML representation or trust the notebook. <br />On GitHub, the HTML representation is unable to render, please try loading this page with nbviewer.org.</b></div><div class=\"sk-container\" hidden><div class=\"sk-item\"><div class=\"sk-estimator sk-toggleable\"><input class=\"sk-toggleable__control sk-hidden--visually\" id=\"sk-estimator-id-1\" type=\"checkbox\" checked><label for=\"sk-estimator-id-1\" class=\"sk-toggleable__label sk-toggleable__label-arrow\">RandomForestClassifier</label><div class=\"sk-toggleable__content\"><pre>RandomForestClassifier()</pre></div></div></div></div></div>"
      ],
      "text/plain": [
       "RandomForestClassifier()"
      ]
     },
     "execution_count": 5,
     "metadata": {},
     "output_type": "execute_result"
    }
   ],
   "source": [
    "clf = RandomForestClassifier()\n",
    "clf.fit(X,y)"
   ]
  },
  {
   "cell_type": "code",
   "execution_count": 7,
   "metadata": {},
   "outputs": [
    {
     "name": "stderr",
     "output_type": "stream",
     "text": [
      "/Users/rizkikurniawan/opt/anaconda3/envs/disease_classification/lib/python3.9/site-packages/sklearn/model_selection/_split.py:700: UserWarning: The least populated class in y has only 2 members, which is less than n_splits=5.\n",
      "  warnings.warn(\n"
     ]
    },
    {
     "data": {
      "text/plain": [
       "array([1., 1., 1., 1., 1.])"
      ]
     },
     "execution_count": 7,
     "metadata": {},
     "output_type": "execute_result"
    }
   ],
   "source": [
    "cross_val_score(clf, X, y)"
   ]
  },
  {
   "cell_type": "code",
   "execution_count": 8,
   "metadata": {},
   "outputs": [
    {
     "data": {
      "text/plain": [
       "1.0"
      ]
     },
     "execution_count": 8,
     "metadata": {},
     "output_type": "execute_result"
    }
   ],
   "source": [
    "clf.score(X,y)"
   ]
  },
  {
   "cell_type": "code",
   "execution_count": 9,
   "metadata": {},
   "outputs": [
    {
     "data": {
      "text/plain": [
       "array(['AHPND', 'EHP', 'IMNV', 'WFD', 'WSSV'], dtype=object)"
      ]
     },
     "execution_count": 9,
     "metadata": {},
     "output_type": "execute_result"
    }
   ],
   "source": [
    "clf.classes_"
   ]
  },
  {
   "cell_type": "code",
   "execution_count": 10,
   "metadata": {},
   "outputs": [
    {
     "name": "stdout",
     "output_type": "stream",
     "text": [
      "<class 'pandas.core.frame.DataFrame'>\n",
      "RangeIndex: 27 entries, 0 to 26\n",
      "Data columns (total 35 columns):\n",
      " #   Column                   Non-Null Count  Dtype \n",
      "---  ------                   --------------  ----- \n",
      " 0   disease                  27 non-null     object\n",
      " 1   warna_putih              27 non-null     int64 \n",
      " 2   warna_bening             27 non-null     int64 \n",
      " 3   warna_pucat              27 non-null     int64 \n",
      " 4   warna_gelap              27 non-null     int64 \n",
      " 5   warna_ekor_merah         27 non-null     int64 \n",
      " 6   kulit_spot_putih         27 non-null     int64 \n",
      " 7   kulit_spot_hitam         27 non-null     int64 \n",
      " 8   kulit_spot_false         27 non-null     int64 \n",
      " 9   tekstur_lembek           27 non-null     int64 \n",
      " 10  tekstur_keras            27 non-null     int64 \n",
      " 11  tekstur_keropos          27 non-null     int64 \n",
      " 12  visual_normal            27 non-null     int64 \n",
      " 13  visual_ngapas            27 non-null     int64 \n",
      " 14  visual_insang_gelap      27 non-null     int64 \n",
      " 15  visual_tidak_lengkap     27 non-null     int64 \n",
      " 16  makan_normal             27 non-null     int64 \n",
      " 17  makan_turun              27 non-null     int64 \n",
      " 18  makan_naik               27 non-null     int64 \n",
      " 19  size_normal              27 non-null     int64 \n",
      " 20  size_kerdil              27 non-null     int64 \n",
      " 21  size_tidak_seragam       27 non-null     int64 \n",
      " 22  mortalitas_true          27 non-null     int64 \n",
      " 23  mortalitas_false         27 non-null     int64 \n",
      " 24  hepa_size_normal         27 non-null     int64 \n",
      " 25  hepa_size_kerut          27 non-null     int64 \n",
      " 26  hepa_size_bengkak        27 non-null     int64 \n",
      " 27  hepa_warna_coklathijau   27 non-null     int64 \n",
      " 28  hepa_warna_coklathitam   27 non-null     int64 \n",
      " 29  hepa_warna_pucat         27 non-null     int64 \n",
      " 30  feces_warna_putih        27 non-null     int64 \n",
      " 31  feces_warna_coklathijau  27 non-null     int64 \n",
      " 32  feces_warna_hitamgelap   27 non-null     int64 \n",
      " 33  feces_bentuk_utuh        27 non-null     int64 \n",
      " 34  feces_bentuk_lembek      27 non-null     int64 \n",
      "dtypes: int64(34), object(1)\n",
      "memory usage: 7.5+ KB\n"
     ]
    }
   ],
   "source": [
    "df.info()"
   ]
  },
  {
   "cell_type": "code",
   "execution_count": 12,
   "metadata": {},
   "outputs": [
    {
     "data": {
      "text/plain": [
       "Index(['warna_putih', 'warna_bening', 'warna_pucat', 'warna_gelap',\n",
       "       'warna_ekor_merah', 'kulit_spot_putih', 'kulit_spot_hitam',\n",
       "       'kulit_spot_false', 'tekstur_lembek', 'tekstur_keras',\n",
       "       'tekstur_keropos', 'visual_normal', 'visual_ngapas',\n",
       "       'visual_insang_gelap', 'visual_tidak_lengkap', 'makan_normal',\n",
       "       'makan_turun', 'makan_naik', 'size_normal', 'size_kerdil',\n",
       "       'size_tidak_seragam', 'mortalitas_true', 'mortalitas_false',\n",
       "       'hepa_size_normal', 'hepa_size_kerut', 'hepa_size_bengkak',\n",
       "       'hepa_warna_coklathijau', 'hepa_warna_coklathitam', 'hepa_warna_pucat',\n",
       "       'feces_warna_putih', 'feces_warna_coklathijau',\n",
       "       'feces_warna_hitamgelap', 'feces_bentuk_utuh', 'feces_bentuk_lembek'],\n",
       "      dtype='object')"
      ]
     },
     "execution_count": 12,
     "metadata": {},
     "output_type": "execute_result"
    }
   ],
   "source": [
    "X.columns"
   ]
  },
  {
   "cell_type": "code",
   "execution_count": 15,
   "metadata": {},
   "outputs": [],
   "source": [
    "pickle.dump(clf, open('model.sav','wb'))"
   ]
  },
  {
   "cell_type": "code",
   "execution_count": 16,
   "metadata": {},
   "outputs": [
    {
     "data": {
      "text/plain": [
       "34"
      ]
     },
     "execution_count": 16,
     "metadata": {},
     "output_type": "execute_result"
    }
   ],
   "source": [
    "len(X.columns)"
   ]
  },
  {
   "cell_type": "code",
   "execution_count": null,
   "metadata": {},
   "outputs": [],
   "source": []
  }
 ],
 "metadata": {
  "kernelspec": {
   "display_name": "Python 3.9.16 ('disease_classification')",
   "language": "python",
   "name": "python3"
  },
  "language_info": {
   "codemirror_mode": {
    "name": "ipython",
    "version": 3
   },
   "file_extension": ".py",
   "mimetype": "text/x-python",
   "name": "python",
   "nbconvert_exporter": "python",
   "pygments_lexer": "ipython3",
   "version": "3.9.16"
  },
  "orig_nbformat": 4,
  "vscode": {
   "interpreter": {
    "hash": "83fd57f276a846024274d4ab96c71e0b5d0587446f7860f5bfbc99bcaaf3c70b"
   }
  }
 },
 "nbformat": 4,
 "nbformat_minor": 2
}
